{
 "cells": [
  {
   "cell_type": "markdown",
   "metadata": {},
   "source": [
    "# Solow model with land (måske rettes lidt til)"
   ]
  },
  {
   "cell_type": "markdown",
   "metadata": {},
   "source": [
    "Imports and set magics:"
   ]
  },
  {
   "cell_type": "code",
   "execution_count": 1,
   "metadata": {},
   "outputs": [],
   "source": [
    "from __future__ import print_function\n",
    "import numpy as np\n",
    "from scipy import optimize\n",
    "import sympy as sm\n",
    "import matplotlib.pyplot as plt\n",
    "from ipywidgets import interact, interactive, fixed, interact_manual\n",
    "import ipywidgets as widgets\n",
    "\n",
    "# autoreload modules when code is run\n",
    "%load_ext autoreload\n",
    "%autoreload 2"
   ]
  },
  {
   "cell_type": "markdown",
   "metadata": {},
   "source": [
    "# The standard Solow model"
   ]
  },
  {
   "cell_type": "markdown",
   "metadata": {},
   "source": [
    "We consider the standard Solow model with a Cobb-Douglas production function: \n",
    "$$ Y_t=K_t^{\\alpha}(A_tL_t)^{1-\\alpha}, 0<\\alpha<1 $$\n",
    "\n",
    "* $Y_t$ is GDP\n",
    "* $K_t$ is capital \n",
    "* $L_t$ is labor \n",
    " * growing with a constant rate of $n$: $L_{t+1}=(1+n)L_t, n\\geq0$\n",
    "* $A_t$ is technology \n",
    " * growing with a constant rate of $g$: $A_{t+1}=(1+g)A_t, g\\geq0$ \n",
    "\n",
    "\n",
    "\n"
   ]
  },
  {
   "cell_type": "markdown",
   "metadata": {},
   "source": [
    "Saving is a constant fraction of GDP\n",
    "\n",
    "$$ \n",
    "S_t = sY_t, 0<s<1\n",
    "$$\n",
    "\n",
    "such that capital accumulation is savings and undepreciated capital: \n",
    "\n",
    "$$\n",
    "K_{t+1}=S_t+(1-\\delta)K_t, 0<\\delta<1\n",
    "$$"
   ]
  },
  {
   "cell_type": "markdown",
   "metadata": {},
   "source": [
    "\n",
    "We define the technology adjusted capital-labour ratio as \n",
    "\n",
    "$$\\tilde{k_{t+1}}=\\frac{K_{t+1}}{L_{t+1}A_{t+1}} $$"
   ]
  },
  {
   "cell_type": "markdown",
   "metadata": {},
   "source": [
    "The transition equation becomes:\n",
    "$$\n",
    "\\tilde{k_{t+1}}=\\frac{1}{(1+n)(1+g)}*(s\\tilde{k_t^\\alpha}+(1-\\delta)\\tilde{k_t})\n",
    "$$"
   ]
  },
  {
   "cell_type": "markdown",
   "metadata": {},
   "source": [
    "We know that steady state requires $k_{t+1}=k_t$"
   ]
  },
  {
   "cell_type": "markdown",
   "metadata": {},
   "source": [
    "# SOLVE MED SYMPY"
   ]
  },
  {
   "cell_type": "markdown",
   "metadata": {},
   "source": [
    "## Graphical analysis "
   ]
  },
  {
   "cell_type": "code",
   "execution_count": 2,
   "metadata": {},
   "outputs": [],
   "source": [
    "def intersection(lst1,lst2):\n",
    "        temp = set(lst2)\n",
    "        test = [value for value in lst1 if value in temp]\n",
    "        return test"
   ]
  },
  {
   "cell_type": "code",
   "execution_count": 3,
   "metadata": {},
   "outputs": [
    {
     "output_type": "display_data",
     "data": {
      "text/plain": "<Figure size 360x360 with 1 Axes>",
      "image/svg+xml": "<?xml version=\"1.0\" encoding=\"utf-8\" standalone=\"no\"?>\r\n<!DOCTYPE svg PUBLIC \"-//W3C//DTD SVG 1.1//EN\"\r\n  \"http://www.w3.org/Graphics/SVG/1.1/DTD/svg11.dtd\">\r\n<!-- Created with matplotlib (https://matplotlib.org/) -->\r\n<svg height=\"320.154219pt\" version=\"1.1\" viewBox=\"0 0 305.960938 320.154219\" width=\"305.960938pt\" xmlns=\"http://www.w3.org/2000/svg\" xmlns:xlink=\"http://www.w3.org/1999/xlink\">\r\n <defs>\r\n  <style type=\"text/css\">\r\n*{stroke-linecap:butt;stroke-linejoin:round;}\r\n  </style>\r\n </defs>\r\n <g id=\"figure_1\">\r\n  <g id=\"patch_1\">\r\n   <path d=\"M -0 320.154219 \r\nL 305.960937 320.154219 \r\nL 305.960937 0 \r\nL -0 0 \r\nz\r\n\" style=\"fill:#ffffff;\"/>\r\n  </g>\r\n  <g id=\"axes_1\">\r\n   <g id=\"patch_2\">\r\n    <path d=\"M 19.760938 282.578906 \r\nL 298.760938 282.578906 \r\nL 298.760938 10.778906 \r\nL 19.760938 10.778906 \r\nz\r\n\" style=\"fill:#eaeaf2;\"/>\r\n   </g>\r\n   <g id=\"matplotlib.axis_1\">\r\n    <g id=\"xtick_1\">\r\n     <g id=\"line2d_1\">\r\n      <path clip-path=\"url(#p3a9aa99fc9)\" d=\"M 19.760938 282.578906 \r\nL 19.760938 10.778906 \r\n\" style=\"fill:none;stroke:#ffffff;stroke-linecap:round;\"/>\r\n     </g>\r\n     <g id=\"line2d_2\"/>\r\n     <g id=\"text_1\">\r\n      <!-- 0 -->\r\n      <defs>\r\n       <path d=\"M 4.15625 35.296875 \r\nQ 4.15625 48 6.765625 55.734375 \r\nQ 9.375 63.484375 14.515625 67.671875 \r\nQ 19.671875 71.875 27.484375 71.875 \r\nQ 33.25 71.875 37.59375 69.546875 \r\nQ 41.9375 67.234375 44.765625 62.859375 \r\nQ 47.609375 58.5 49.21875 52.21875 \r\nQ 50.828125 45.953125 50.828125 35.296875 \r\nQ 50.828125 22.703125 48.234375 14.96875 \r\nQ 45.65625 7.234375 40.5 3 \r\nQ 35.359375 -1.21875 27.484375 -1.21875 \r\nQ 17.140625 -1.21875 11.234375 6.203125 \r\nQ 4.15625 15.140625 4.15625 35.296875 \r\nz\r\nM 13.1875 35.296875 \r\nQ 13.1875 17.671875 17.3125 11.828125 \r\nQ 21.4375 6 27.484375 6 \r\nQ 33.546875 6 37.671875 11.859375 \r\nQ 41.796875 17.71875 41.796875 35.296875 \r\nQ 41.796875 52.984375 37.671875 58.78125 \r\nQ 33.546875 64.59375 27.390625 64.59375 \r\nQ 21.34375 64.59375 17.71875 59.46875 \r\nQ 13.1875 52.9375 13.1875 35.296875 \r\nz\r\n\" id=\"ArialMT-48\"/>\r\n      </defs>\r\n      <g style=\"fill:#262626;\" transform=\"translate(16.980469 296.736719)scale(0.1 -0.1)\">\r\n       <use xlink:href=\"#ArialMT-48\"/>\r\n      </g>\r\n     </g>\r\n    </g>\r\n    <g id=\"xtick_2\">\r\n     <g id=\"line2d_3\">\r\n      <path clip-path=\"url(#p3a9aa99fc9)\" d=\"M 54.98821 282.578906 \r\nL 54.98821 10.778906 \r\n\" style=\"fill:none;stroke:#ffffff;stroke-linecap:round;\"/>\r\n     </g>\r\n     <g id=\"line2d_4\"/>\r\n     <g id=\"text_2\">\r\n      <!-- 25 -->\r\n      <defs>\r\n       <path d=\"M 50.34375 8.453125 \r\nL 50.34375 0 \r\nL 3.03125 0 \r\nQ 2.9375 3.171875 4.046875 6.109375 \r\nQ 5.859375 10.9375 9.828125 15.625 \r\nQ 13.8125 20.3125 21.34375 26.46875 \r\nQ 33.015625 36.03125 37.109375 41.625 \r\nQ 41.21875 47.21875 41.21875 52.203125 \r\nQ 41.21875 57.421875 37.46875 61 \r\nQ 33.734375 64.59375 27.734375 64.59375 \r\nQ 21.390625 64.59375 17.578125 60.78125 \r\nQ 13.765625 56.984375 13.71875 50.25 \r\nL 4.6875 51.171875 \r\nQ 5.609375 61.28125 11.65625 66.578125 \r\nQ 17.71875 71.875 27.9375 71.875 \r\nQ 38.234375 71.875 44.234375 66.15625 \r\nQ 50.25 60.453125 50.25 52 \r\nQ 50.25 47.703125 48.484375 43.546875 \r\nQ 46.734375 39.40625 42.65625 34.8125 \r\nQ 38.578125 30.21875 29.109375 22.21875 \r\nQ 21.1875 15.578125 18.9375 13.203125 \r\nQ 16.703125 10.84375 15.234375 8.453125 \r\nz\r\n\" id=\"ArialMT-50\"/>\r\n       <path d=\"M 4.15625 18.75 \r\nL 13.375 19.53125 \r\nQ 14.40625 12.796875 18.140625 9.390625 \r\nQ 21.875 6 27.15625 6 \r\nQ 33.5 6 37.890625 10.78125 \r\nQ 42.28125 15.578125 42.28125 23.484375 \r\nQ 42.28125 31 38.0625 35.34375 \r\nQ 33.84375 39.703125 27 39.703125 \r\nQ 22.75 39.703125 19.328125 37.765625 \r\nQ 15.921875 35.84375 13.96875 32.765625 \r\nL 5.71875 33.84375 \r\nL 12.640625 70.609375 \r\nL 48.25 70.609375 \r\nL 48.25 62.203125 \r\nL 19.671875 62.203125 \r\nL 15.828125 42.96875 \r\nQ 22.265625 47.46875 29.34375 47.46875 \r\nQ 38.71875 47.46875 45.15625 40.96875 \r\nQ 51.609375 34.46875 51.609375 24.265625 \r\nQ 51.609375 14.546875 45.953125 7.46875 \r\nQ 39.0625 -1.21875 27.15625 -1.21875 \r\nQ 17.390625 -1.21875 11.203125 4.25 \r\nQ 5.03125 9.71875 4.15625 18.75 \r\nz\r\n\" id=\"ArialMT-53\"/>\r\n      </defs>\r\n      <g style=\"fill:#262626;\" transform=\"translate(49.427273 296.736719)scale(0.1 -0.1)\">\r\n       <use xlink:href=\"#ArialMT-50\"/>\r\n       <use x=\"55.615234\" xlink:href=\"#ArialMT-53\"/>\r\n      </g>\r\n     </g>\r\n    </g>\r\n    <g id=\"xtick_3\">\r\n     <g id=\"line2d_5\">\r\n      <path clip-path=\"url(#p3a9aa99fc9)\" d=\"M 90.215483 282.578906 \r\nL 90.215483 10.778906 \r\n\" style=\"fill:none;stroke:#ffffff;stroke-linecap:round;\"/>\r\n     </g>\r\n     <g id=\"line2d_6\"/>\r\n     <g id=\"text_3\">\r\n      <!-- 50 -->\r\n      <g style=\"fill:#262626;\" transform=\"translate(84.654545 296.736719)scale(0.1 -0.1)\">\r\n       <use xlink:href=\"#ArialMT-53\"/>\r\n       <use x=\"55.615234\" xlink:href=\"#ArialMT-48\"/>\r\n      </g>\r\n     </g>\r\n    </g>\r\n    <g id=\"xtick_4\">\r\n     <g id=\"line2d_7\">\r\n      <path clip-path=\"url(#p3a9aa99fc9)\" d=\"M 125.442756 282.578906 \r\nL 125.442756 10.778906 \r\n\" style=\"fill:none;stroke:#ffffff;stroke-linecap:round;\"/>\r\n     </g>\r\n     <g id=\"line2d_8\"/>\r\n     <g id=\"text_4\">\r\n      <!-- 75 -->\r\n      <defs>\r\n       <path d=\"M 4.734375 62.203125 \r\nL 4.734375 70.65625 \r\nL 51.078125 70.65625 \r\nL 51.078125 63.8125 \r\nQ 44.234375 56.546875 37.515625 44.484375 \r\nQ 30.8125 32.421875 27.15625 19.671875 \r\nQ 24.515625 10.6875 23.78125 0 \r\nL 14.75 0 \r\nQ 14.890625 8.453125 18.0625 20.40625 \r\nQ 21.234375 32.375 27.171875 43.484375 \r\nQ 33.109375 54.59375 39.796875 62.203125 \r\nz\r\n\" id=\"ArialMT-55\"/>\r\n      </defs>\r\n      <g style=\"fill:#262626;\" transform=\"translate(119.881818 296.736719)scale(0.1 -0.1)\">\r\n       <use xlink:href=\"#ArialMT-55\"/>\r\n       <use x=\"55.615234\" xlink:href=\"#ArialMT-53\"/>\r\n      </g>\r\n     </g>\r\n    </g>\r\n    <g id=\"xtick_5\">\r\n     <g id=\"line2d_9\">\r\n      <path clip-path=\"url(#p3a9aa99fc9)\" d=\"M 160.670028 282.578906 \r\nL 160.670028 10.778906 \r\n\" style=\"fill:none;stroke:#ffffff;stroke-linecap:round;\"/>\r\n     </g>\r\n     <g id=\"line2d_10\"/>\r\n     <g id=\"text_5\">\r\n      <!-- 100 -->\r\n      <defs>\r\n       <path d=\"M 37.25 0 \r\nL 28.46875 0 \r\nL 28.46875 56 \r\nQ 25.296875 52.984375 20.140625 49.953125 \r\nQ 14.984375 46.921875 10.890625 45.40625 \r\nL 10.890625 53.90625 \r\nQ 18.265625 57.375 23.78125 62.296875 \r\nQ 29.296875 67.234375 31.59375 71.875 \r\nL 37.25 71.875 \r\nz\r\n\" id=\"ArialMT-49\"/>\r\n      </defs>\r\n      <g style=\"fill:#262626;\" transform=\"translate(152.328622 296.736719)scale(0.1 -0.1)\">\r\n       <use xlink:href=\"#ArialMT-49\"/>\r\n       <use x=\"55.615234\" xlink:href=\"#ArialMT-48\"/>\r\n       <use x=\"111.230469\" xlink:href=\"#ArialMT-48\"/>\r\n      </g>\r\n     </g>\r\n    </g>\r\n    <g id=\"xtick_6\">\r\n     <g id=\"line2d_11\">\r\n      <path clip-path=\"url(#p3a9aa99fc9)\" d=\"M 195.897301 282.578906 \r\nL 195.897301 10.778906 \r\n\" style=\"fill:none;stroke:#ffffff;stroke-linecap:round;\"/>\r\n     </g>\r\n     <g id=\"line2d_12\"/>\r\n     <g id=\"text_6\">\r\n      <!-- 125 -->\r\n      <g style=\"fill:#262626;\" transform=\"translate(187.555895 296.736719)scale(0.1 -0.1)\">\r\n       <use xlink:href=\"#ArialMT-49\"/>\r\n       <use x=\"55.615234\" xlink:href=\"#ArialMT-50\"/>\r\n       <use x=\"111.230469\" xlink:href=\"#ArialMT-53\"/>\r\n      </g>\r\n     </g>\r\n    </g>\r\n    <g id=\"xtick_7\">\r\n     <g id=\"line2d_13\">\r\n      <path clip-path=\"url(#p3a9aa99fc9)\" d=\"M 231.124574 282.578906 \r\nL 231.124574 10.778906 \r\n\" style=\"fill:none;stroke:#ffffff;stroke-linecap:round;\"/>\r\n     </g>\r\n     <g id=\"line2d_14\"/>\r\n     <g id=\"text_7\">\r\n      <!-- 150 -->\r\n      <g style=\"fill:#262626;\" transform=\"translate(222.783168 296.736719)scale(0.1 -0.1)\">\r\n       <use xlink:href=\"#ArialMT-49\"/>\r\n       <use x=\"55.615234\" xlink:href=\"#ArialMT-53\"/>\r\n       <use x=\"111.230469\" xlink:href=\"#ArialMT-48\"/>\r\n      </g>\r\n     </g>\r\n    </g>\r\n    <g id=\"xtick_8\">\r\n     <g id=\"line2d_15\">\r\n      <path clip-path=\"url(#p3a9aa99fc9)\" d=\"M 266.351847 282.578906 \r\nL 266.351847 10.778906 \r\n\" style=\"fill:none;stroke:#ffffff;stroke-linecap:round;\"/>\r\n     </g>\r\n     <g id=\"line2d_16\"/>\r\n     <g id=\"text_8\">\r\n      <!-- 175 -->\r\n      <g style=\"fill:#262626;\" transform=\"translate(258.01044 296.736719)scale(0.1 -0.1)\">\r\n       <use xlink:href=\"#ArialMT-49\"/>\r\n       <use x=\"55.615234\" xlink:href=\"#ArialMT-55\"/>\r\n       <use x=\"111.230469\" xlink:href=\"#ArialMT-53\"/>\r\n      </g>\r\n     </g>\r\n    </g>\r\n    <g id=\"text_9\">\r\n     <!-- $k_t$ -->\r\n     <defs>\r\n      <path d=\"M 18.3125 75.984375 \r\nL 27.296875 75.984375 \r\nL 18.703125 31.6875 \r\nL 49.515625 54.6875 \r\nL 61.1875 54.6875 \r\nL 26.8125 28.515625 \r\nL 51.90625 0 \r\nL 41.015625 0 \r\nL 17.671875 26.703125 \r\nL 12.5 0 \r\nL 3.515625 0 \r\nz\r\n\" id=\"DejaVuSans-Oblique-107\"/>\r\n      <path d=\"M 42.28125 54.6875 \r\nL 40.921875 47.703125 \r\nL 23 47.703125 \r\nL 17.1875 18.015625 \r\nQ 16.890625 16.359375 16.75 15.234375 \r\nQ 16.609375 14.109375 16.609375 13.484375 \r\nQ 16.609375 10.359375 18.484375 8.9375 \r\nQ 20.359375 7.515625 24.515625 7.515625 \r\nL 33.59375 7.515625 \r\nL 32.078125 0 \r\nL 23.484375 0 \r\nQ 15.484375 0 11.546875 3.125 \r\nQ 7.625 6.25 7.625 12.59375 \r\nQ 7.625 13.71875 7.765625 15.0625 \r\nQ 7.90625 16.40625 8.203125 18.015625 \r\nL 14.015625 47.703125 \r\nL 6.390625 47.703125 \r\nL 7.8125 54.6875 \r\nL 15.28125 54.6875 \r\nL 18.3125 70.21875 \r\nL 27.296875 70.21875 \r\nL 24.3125 54.6875 \r\nz\r\n\" id=\"DejaVuSans-Oblique-116\"/>\r\n     </defs>\r\n     <g style=\"fill:#262626;\" transform=\"translate(154.365938 310.767969)scale(0.11 -0.11)\">\r\n      <use transform=\"translate(0 0.015625)\" xlink:href=\"#DejaVuSans-Oblique-107\"/>\r\n      <use transform=\"translate(57.910156 -16.390625)scale(0.7)\" xlink:href=\"#DejaVuSans-Oblique-116\"/>\r\n     </g>\r\n    </g>\r\n   </g>\r\n   <g id=\"matplotlib.axis_2\">\r\n    <g id=\"ytick_1\">\r\n     <g id=\"line2d_17\">\r\n      <path clip-path=\"url(#p3a9aa99fc9)\" d=\"M 19.760938 282.578906 \r\nL 298.760938 282.578906 \r\n\" style=\"fill:none;stroke:#ffffff;stroke-linecap:round;\"/>\r\n     </g>\r\n     <g id=\"line2d_18\"/>\r\n     <g id=\"text_10\">\r\n      <!-- 0 -->\r\n      <g style=\"fill:#262626;\" transform=\"translate(7.2 286.157812)scale(0.1 -0.1)\">\r\n       <use xlink:href=\"#ArialMT-48\"/>\r\n      </g>\r\n     </g>\r\n    </g>\r\n    <g id=\"ytick_2\">\r\n     <g id=\"line2d_19\">\r\n      <path clip-path=\"url(#p3a9aa99fc9)\" d=\"M 19.760938 228.218906 \r\nL 298.760938 228.218906 \r\n\" style=\"fill:none;stroke:#ffffff;stroke-linecap:round;\"/>\r\n     </g>\r\n     <g id=\"line2d_20\"/>\r\n     <g id=\"text_11\">\r\n      <!-- 1 -->\r\n      <g style=\"fill:#262626;\" transform=\"translate(7.2 231.797812)scale(0.1 -0.1)\">\r\n       <use xlink:href=\"#ArialMT-49\"/>\r\n      </g>\r\n     </g>\r\n    </g>\r\n    <g id=\"ytick_3\">\r\n     <g id=\"line2d_21\">\r\n      <path clip-path=\"url(#p3a9aa99fc9)\" d=\"M 19.760938 173.858906 \r\nL 298.760938 173.858906 \r\n\" style=\"fill:none;stroke:#ffffff;stroke-linecap:round;\"/>\r\n     </g>\r\n     <g id=\"line2d_22\"/>\r\n     <g id=\"text_12\">\r\n      <!-- 2 -->\r\n      <g style=\"fill:#262626;\" transform=\"translate(7.2 177.437812)scale(0.1 -0.1)\">\r\n       <use xlink:href=\"#ArialMT-50\"/>\r\n      </g>\r\n     </g>\r\n    </g>\r\n    <g id=\"ytick_4\">\r\n     <g id=\"line2d_23\">\r\n      <path clip-path=\"url(#p3a9aa99fc9)\" d=\"M 19.760938 119.498906 \r\nL 298.760938 119.498906 \r\n\" style=\"fill:none;stroke:#ffffff;stroke-linecap:round;\"/>\r\n     </g>\r\n     <g id=\"line2d_24\"/>\r\n     <g id=\"text_13\">\r\n      <!-- 3 -->\r\n      <defs>\r\n       <path d=\"M 4.203125 18.890625 \r\nL 12.984375 20.0625 \r\nQ 14.5 12.59375 18.140625 9.296875 \r\nQ 21.78125 6 27 6 \r\nQ 33.203125 6 37.46875 10.296875 \r\nQ 41.75 14.59375 41.75 20.953125 \r\nQ 41.75 27 37.796875 30.921875 \r\nQ 33.84375 34.859375 27.734375 34.859375 \r\nQ 25.25 34.859375 21.53125 33.890625 \r\nL 22.515625 41.609375 \r\nQ 23.390625 41.5 23.921875 41.5 \r\nQ 29.546875 41.5 34.03125 44.421875 \r\nQ 38.53125 47.359375 38.53125 53.46875 \r\nQ 38.53125 58.296875 35.25 61.46875 \r\nQ 31.984375 64.65625 26.8125 64.65625 \r\nQ 21.6875 64.65625 18.265625 61.421875 \r\nQ 14.84375 58.203125 13.875 51.765625 \r\nL 5.078125 53.328125 \r\nQ 6.6875 62.15625 12.390625 67.015625 \r\nQ 18.109375 71.875 26.609375 71.875 \r\nQ 32.46875 71.875 37.390625 69.359375 \r\nQ 42.328125 66.84375 44.9375 62.5 \r\nQ 47.5625 58.15625 47.5625 53.265625 \r\nQ 47.5625 48.640625 45.0625 44.828125 \r\nQ 42.578125 41.015625 37.703125 38.765625 \r\nQ 44.046875 37.3125 47.5625 32.6875 \r\nQ 51.078125 28.078125 51.078125 21.140625 \r\nQ 51.078125 11.765625 44.234375 5.25 \r\nQ 37.40625 -1.265625 26.953125 -1.265625 \r\nQ 17.53125 -1.265625 11.296875 4.34375 \r\nQ 5.078125 9.96875 4.203125 18.890625 \r\nz\r\n\" id=\"ArialMT-51\"/>\r\n      </defs>\r\n      <g style=\"fill:#262626;\" transform=\"translate(7.2 123.077812)scale(0.1 -0.1)\">\r\n       <use xlink:href=\"#ArialMT-51\"/>\r\n      </g>\r\n     </g>\r\n    </g>\r\n    <g id=\"ytick_5\">\r\n     <g id=\"line2d_25\">\r\n      <path clip-path=\"url(#p3a9aa99fc9)\" d=\"M 19.760938 65.138906 \r\nL 298.760938 65.138906 \r\n\" style=\"fill:none;stroke:#ffffff;stroke-linecap:round;\"/>\r\n     </g>\r\n     <g id=\"line2d_26\"/>\r\n     <g id=\"text_14\">\r\n      <!-- 4 -->\r\n      <defs>\r\n       <path d=\"M 32.328125 0 \r\nL 32.328125 17.140625 \r\nL 1.265625 17.140625 \r\nL 1.265625 25.203125 \r\nL 33.9375 71.578125 \r\nL 41.109375 71.578125 \r\nL 41.109375 25.203125 \r\nL 50.78125 25.203125 \r\nL 50.78125 17.140625 \r\nL 41.109375 17.140625 \r\nL 41.109375 0 \r\nz\r\nM 32.328125 25.203125 \r\nL 32.328125 57.46875 \r\nL 9.90625 25.203125 \r\nz\r\n\" id=\"ArialMT-52\"/>\r\n      </defs>\r\n      <g style=\"fill:#262626;\" transform=\"translate(7.2 68.717812)scale(0.1 -0.1)\">\r\n       <use xlink:href=\"#ArialMT-52\"/>\r\n      </g>\r\n     </g>\r\n    </g>\r\n    <g id=\"ytick_6\">\r\n     <g id=\"line2d_27\">\r\n      <path clip-path=\"url(#p3a9aa99fc9)\" d=\"M 19.760938 10.778906 \r\nL 298.760938 10.778906 \r\n\" style=\"fill:none;stroke:#ffffff;stroke-linecap:round;\"/>\r\n     </g>\r\n     <g id=\"line2d_28\"/>\r\n     <g id=\"text_15\">\r\n      <!-- 5 -->\r\n      <g style=\"fill:#262626;\" transform=\"translate(7.2 14.357812)scale(0.1 -0.1)\">\r\n       <use xlink:href=\"#ArialMT-53\"/>\r\n      </g>\r\n     </g>\r\n    </g>\r\n   </g>\r\n   <g id=\"line2d_29\">\r\n    <path clip-path=\"url(#p3a9aa99fc9)\" d=\"M 19.760938 277.387526 \r\nL 95.323376 -1 \r\nL 95.323376 -1 \r\n\" style=\"fill:none;stroke:#008000;stroke-linecap:round;stroke-width:1.75;\"/>\r\n   </g>\r\n   <g id=\"line2d_30\">\r\n    <path clip-path=\"url(#p3a9aa99fc9)\" d=\"M 19.760938 277.088546 \r\nL 21.170028 275.661486 \r\nL 22.579119 274.660437 \r\nL 25.397301 273.190523 \r\nL 28.215483 272.076225 \r\nL 32.442756 270.750284 \r\nL 36.670028 269.669232 \r\nL 42.306392 268.461645 \r\nL 49.351847 267.194702 \r\nL 57.806392 265.90694 \r\nL 67.670028 264.619575 \r\nL 80.351847 263.196023 \r\nL 95.851847 261.699328 \r\nL 114.170028 260.16915 \r\nL 135.306392 258.629568 \r\nL 160.670028 257.010248 \r\nL 190.260938 255.348501 \r\nL 225.48821 253.602806 \r\nL 266.351847 251.810497 \r\nL 297.351847 250.578471 \r\nL 297.351847 250.578471 \r\n\" style=\"fill:none;stroke:#ff0000;stroke-linecap:round;stroke-width:1.75;\"/>\r\n   </g>\r\n   <g id=\"patch_3\">\r\n    <path d=\"M 19.760938 282.578906 \r\nL 19.760938 10.778906 \r\n\" style=\"fill:none;\"/>\r\n   </g>\r\n   <g id=\"patch_4\">\r\n    <path d=\"M 298.760938 282.578906 \r\nL 298.760938 10.778906 \r\n\" style=\"fill:none;\"/>\r\n   </g>\r\n   <g id=\"patch_5\">\r\n    <path d=\"M 19.760938 282.578906 \r\nL 298.760938 282.578906 \r\n\" style=\"fill:none;\"/>\r\n   </g>\r\n   <g id=\"patch_6\">\r\n    <path d=\"M 19.760938 10.778906 \r\nL 298.760938 10.778906 \r\n\" style=\"fill:none;\"/>\r\n   </g>\r\n   <g id=\"legend_1\">\r\n    <g id=\"line2d_31\">\r\n     <path d=\"M 158.160937 23.878906 \r\nL 178.160937 23.878906 \r\n\" style=\"fill:none;stroke:#008000;stroke-linecap:round;stroke-width:1.75;\"/>\r\n    </g>\r\n    <g id=\"line2d_32\"/>\r\n    <g id=\"text_16\">\r\n     <!-- $(n+g+\\delta+n+ng)k_t$ -->\r\n     <defs>\r\n      <path d=\"M 31 75.875 \r\nQ 24.46875 64.65625 21.28125 53.65625 \r\nQ 18.109375 42.671875 18.109375 31.390625 \r\nQ 18.109375 20.125 21.3125 9.0625 \r\nQ 24.515625 -2 31 -13.1875 \r\nL 23.1875 -13.1875 \r\nQ 15.875 -1.703125 12.234375 9.375 \r\nQ 8.59375 20.453125 8.59375 31.390625 \r\nQ 8.59375 42.28125 12.203125 53.3125 \r\nQ 15.828125 64.359375 23.1875 75.875 \r\nz\r\n\" id=\"DejaVuSans-40\"/>\r\n      <path d=\"M 55.71875 33.015625 \r\nL 49.3125 0 \r\nL 40.28125 0 \r\nL 46.6875 32.671875 \r\nQ 47.125 34.96875 47.359375 36.71875 \r\nQ 47.609375 38.484375 47.609375 39.5 \r\nQ 47.609375 43.609375 45.015625 45.890625 \r\nQ 42.4375 48.1875 37.796875 48.1875 \r\nQ 30.5625 48.1875 25.34375 43.375 \r\nQ 20.125 38.578125 18.5 30.328125 \r\nL 12.5 0 \r\nL 3.515625 0 \r\nL 14.109375 54.6875 \r\nL 23.09375 54.6875 \r\nL 21.296875 46.09375 \r\nQ 25.046875 50.828125 30.3125 53.40625 \r\nQ 35.59375 56 41.40625 56 \r\nQ 48.640625 56 52.609375 52.09375 \r\nQ 56.59375 48.1875 56.59375 41.109375 \r\nQ 56.59375 39.359375 56.375 37.359375 \r\nQ 56.15625 35.359375 55.71875 33.015625 \r\nz\r\n\" id=\"DejaVuSans-Oblique-110\"/>\r\n      <path d=\"M 46 62.703125 \r\nL 46 35.5 \r\nL 73.1875 35.5 \r\nL 73.1875 27.203125 \r\nL 46 27.203125 \r\nL 46 0 \r\nL 37.796875 0 \r\nL 37.796875 27.203125 \r\nL 10.59375 27.203125 \r\nL 10.59375 35.5 \r\nL 37.796875 35.5 \r\nL 37.796875 62.703125 \r\nz\r\n\" id=\"DejaVuSans-43\"/>\r\n      <path d=\"M 59.625 54.6875 \r\nL 50.296875 6.78125 \r\nQ 47.609375 -7.125 40.015625 -13.953125 \r\nQ 32.421875 -20.796875 19.578125 -20.796875 \r\nQ 14.84375 -20.796875 10.78125 -20.09375 \r\nQ 6.734375 -19.390625 3.21875 -17.921875 \r\nL 4.890625 -9.1875 \r\nQ 8.203125 -11.328125 11.90625 -12.34375 \r\nQ 15.625 -13.375 19.828125 -13.375 \r\nQ 28.375 -13.375 33.859375 -8.703125 \r\nQ 39.359375 -4.046875 41.109375 4.6875 \r\nL 41.890625 8.796875 \r\nQ 38.140625 4.5 33.15625 2.25 \r\nQ 28.171875 0 22.40625 0 \r\nQ 14.109375 0 9.34375 5.484375 \r\nQ 4.59375 10.984375 4.59375 20.609375 \r\nQ 4.59375 28.171875 7.46875 35.421875 \r\nQ 10.359375 42.671875 15.578125 48.296875 \r\nQ 19.046875 52 23.65625 54 \r\nQ 28.265625 56 33.296875 56 \r\nQ 38.8125 56 42.90625 53.4375 \r\nQ 47.015625 50.875 49.03125 46.1875 \r\nL 50.59375 54.6875 \r\nz\r\nM 46.09375 34.625 \r\nQ 46.09375 41.265625 42.96875 44.875 \r\nQ 39.84375 48.484375 34.078125 48.484375 \r\nQ 30.515625 48.484375 27.296875 47.0625 \r\nQ 24.078125 45.65625 21.78125 43.109375 \r\nQ 18.0625 38.921875 15.984375 33.234375 \r\nQ 13.921875 27.546875 13.921875 21.484375 \r\nQ 13.921875 14.75 17.0625 11.125 \r\nQ 20.21875 7.515625 26.125 7.515625 \r\nQ 34.671875 7.515625 40.375 15.25 \r\nQ 46.09375 23 46.09375 34.625 \r\nz\r\n\" id=\"DejaVuSans-Oblique-103\"/>\r\n      <path d=\"M 54.25 63.328125 \r\nQ 49.953125 66.75 38.28125 66.75 \r\nQ 25.921875 66.75 24.8125 61.03125 \r\nQ 23.921875 56.546875 36.375 54.203125 \r\nQ 46.140625 52.390625 50.828125 46.921875 \r\nQ 56.5 40.328125 53.859375 26.8125 \r\nQ 51.3125 13.875 43.171875 6.25 \r\nQ 34.96875 -1.421875 23.25 -1.421875 \r\nQ 11.578125 -1.421875 6.34375 6.25 \r\nQ 1.125 13.875 3.765625 27.296875 \r\nQ 5.671875 37.25 13.921875 45.3125 \r\nQ 17.140625 48.4375 21.140625 50.203125 \r\nQ 14.265625 54.046875 15.625 60.9375 \r\nQ 18.21875 74.21875 39.75 74.21875 \r\nQ 50.53125 74.21875 55.71875 70.796875 \r\nz\r\nM 27.390625 47.75 \r\nQ 23.828125 46.34375 20.40625 42.78125 \r\nQ 15.140625 37.25 13.234375 27.296875 \r\nQ 11.28125 17.390625 14.359375 11.8125 \r\nQ 17.484375 6.203125 24.75 6.203125 \r\nQ 31.9375 6.203125 37.203125 11.859375 \r\nQ 42.53125 17.53125 44.34375 26.8125 \r\nQ 46.1875 36.53125 42.671875 41.21875 \r\nQ 38.921875 46.234375 32.859375 46.78125 \r\nQ 29.78125 47.078125 27.390625 47.75 \r\nz\r\n\" id=\"DejaVuSans-Oblique-948\"/>\r\n      <path d=\"M 8.015625 75.875 \r\nL 15.828125 75.875 \r\nQ 23.140625 64.359375 26.78125 53.3125 \r\nQ 30.421875 42.28125 30.421875 31.390625 \r\nQ 30.421875 20.453125 26.78125 9.375 \r\nQ 23.140625 -1.703125 15.828125 -13.1875 \r\nL 8.015625 -13.1875 \r\nQ 14.5 -2 17.703125 9.0625 \r\nQ 20.90625 20.125 20.90625 31.390625 \r\nQ 20.90625 42.671875 17.703125 53.65625 \r\nQ 14.5 64.65625 8.015625 75.875 \r\nz\r\n\" id=\"DejaVuSans-41\"/>\r\n     </defs>\r\n     <g style=\"fill:#262626;\" transform=\"translate(186.160937 27.378906)scale(0.1 -0.1)\">\r\n      <use transform=\"translate(0 0.015625)\" xlink:href=\"#DejaVuSans-40\"/>\r\n      <use transform=\"translate(39.013672 0.015625)\" xlink:href=\"#DejaVuSans-Oblique-110\"/>\r\n      <use transform=\"translate(121.875 0.015625)\" xlink:href=\"#DejaVuSans-43\"/>\r\n      <use transform=\"translate(225.146484 0.015625)\" xlink:href=\"#DejaVuSans-Oblique-103\"/>\r\n      <use transform=\"translate(308.105469 0.015625)\" xlink:href=\"#DejaVuSans-43\"/>\r\n      <use transform=\"translate(411.376953 0.015625)\" xlink:href=\"#DejaVuSans-Oblique-948\"/>\r\n      <use transform=\"translate(492.041016 0.015625)\" xlink:href=\"#DejaVuSans-43\"/>\r\n      <use transform=\"translate(595.3125 0.015625)\" xlink:href=\"#DejaVuSans-Oblique-110\"/>\r\n      <use transform=\"translate(678.173828 0.015625)\" xlink:href=\"#DejaVuSans-43\"/>\r\n      <use transform=\"translate(781.445312 0.015625)\" xlink:href=\"#DejaVuSans-Oblique-110\"/>\r\n      <use transform=\"translate(844.824219 0.015625)\" xlink:href=\"#DejaVuSans-Oblique-103\"/>\r\n      <use transform=\"translate(908.300781 0.015625)\" xlink:href=\"#DejaVuSans-41\"/>\r\n      <use transform=\"translate(947.314453 0.015625)\" xlink:href=\"#DejaVuSans-Oblique-107\"/>\r\n      <use transform=\"translate(1005.224609 -16.390625)scale(0.7)\" xlink:href=\"#DejaVuSans-Oblique-116\"/>\r\n     </g>\r\n    </g>\r\n    <g id=\"line2d_33\">\r\n     <path d=\"M 158.160937 38.291406 \r\nL 178.160937 38.291406 \r\n\" style=\"fill:none;stroke:#ff0000;stroke-linecap:round;stroke-width:1.75;\"/>\r\n    </g>\r\n    <g id=\"line2d_34\"/>\r\n    <g id=\"text_17\">\r\n     <!-- $sAk_t$ -->\r\n     <defs>\r\n      <path d=\"M 50 53.078125 \r\nL 48.296875 44.578125 \r\nQ 44.734375 46.53125 40.765625 47.5 \r\nQ 36.8125 48.484375 32.625 48.484375 \r\nQ 25.53125 48.484375 21.453125 46.0625 \r\nQ 17.390625 43.65625 17.390625 39.5 \r\nQ 17.390625 34.671875 26.859375 32.078125 \r\nQ 27.59375 31.890625 27.9375 31.78125 \r\nL 30.8125 30.90625 \r\nQ 39.796875 28.421875 42.796875 25.6875 \r\nQ 45.796875 22.953125 45.796875 18.21875 \r\nQ 45.796875 9.515625 38.890625 4.046875 \r\nQ 31.984375 -1.421875 20.796875 -1.421875 \r\nQ 16.453125 -1.421875 11.671875 -0.578125 \r\nQ 6.890625 0.25 1.125 2 \r\nL 2.875 11.28125 \r\nQ 7.8125 8.734375 12.59375 7.421875 \r\nQ 17.390625 6.109375 21.78125 6.109375 \r\nQ 28.375 6.109375 32.5 8.9375 \r\nQ 36.625 11.765625 36.625 16.109375 \r\nQ 36.625 20.796875 25.78125 23.6875 \r\nL 24.859375 23.921875 \r\nL 21.78125 24.703125 \r\nQ 14.9375 26.515625 11.765625 29.46875 \r\nQ 8.59375 32.421875 8.59375 37.015625 \r\nQ 8.59375 45.75 15.15625 50.875 \r\nQ 21.734375 56 33.015625 56 \r\nQ 37.453125 56 41.671875 55.265625 \r\nQ 45.90625 54.546875 50 53.078125 \r\nz\r\n\" id=\"DejaVuSans-Oblique-115\"/>\r\n      <path d=\"M 36.8125 72.90625 \r\nL 48 72.90625 \r\nL 61.53125 0 \r\nL 51.21875 0 \r\nL 48.1875 18.703125 \r\nL 15.375 18.703125 \r\nL 5.078125 0 \r\nL -5.328125 0 \r\nz\r\nM 40.375 63.1875 \r\nL 19.921875 26.90625 \r\nL 46.6875 26.90625 \r\nz\r\n\" id=\"DejaVuSans-Oblique-65\"/>\r\n     </defs>\r\n     <g style=\"fill:#262626;\" transform=\"translate(186.160937 41.791406)scale(0.1 -0.1)\">\r\n      <use transform=\"translate(0 0.015625)\" xlink:href=\"#DejaVuSans-Oblique-115\"/>\r\n      <use transform=\"translate(52.099609 0.015625)\" xlink:href=\"#DejaVuSans-Oblique-65\"/>\r\n      <use transform=\"translate(120.507812 0.015625)\" xlink:href=\"#DejaVuSans-Oblique-107\"/>\r\n      <use transform=\"translate(178.417969 -16.390625)scale(0.7)\" xlink:href=\"#DejaVuSans-Oblique-116\"/>\r\n     </g>\r\n    </g>\r\n   </g>\r\n  </g>\r\n </g>\r\n <defs>\r\n  <clipPath id=\"p3a9aa99fc9\">\r\n   <rect height=\"271.8\" width=\"279\" x=\"19.760938\" y=\"10.778906\"/>\r\n  </clipPath>\r\n </defs>\r\n</svg>\r\n",
      "image/png": "[encoded data removed]"
     },
     "metadata": {}
    }
   ],
   "source": [
    "# a. create function for generating solow diagram\n",
    "def solow(c,alpha,delta,s,n,g):\n",
    "    '''Function for creating the solow diagram\n",
    "\n",
    "    input:\n",
    "    c = capital\n",
    "    alpha = \n",
    "    delta = deprication of capital\n",
    "    s = rate of saving\n",
    "    n = population growth \n",
    "    g = technologic growth\n",
    "\n",
    "    output:\n",
    "    Depriciation of capital \n",
    "    Kapital growth\n",
    "    '''\n",
    "\n",
    "    #i. create empty lists\n",
    "    Deprication = []\n",
    "    Capital = []\n",
    "\n",
    "    # ii. create loop which adds values for deprication of capital\n",
    "    for c in range(1,c):\n",
    "        Deprication.append((n+g+delta+n*g)*c)\n",
    "        \n",
    "    # iii. create loop which adds values for growth of capital\n",
    "    for c in range(1,c):\n",
    "        Capital.append(s*(c**alpha))\n",
    "\n",
    "    # iv. plot in figure\n",
    "    plt.style.use('seaborn') \n",
    "    plt.figure(figsize=(5,5))\n",
    "    plt.plot(Deprication, label = '$(n+g+\\delta+n+ng)k_t$', color = 'g')\n",
    "    plt.plot(Capital, label = '$sAk_t$', color = 'r')\n",
    "    plt.grid(True)\n",
    "    plt.ylim(0,5)\n",
    "    plt.xlim(0,c)\n",
    "    plt.xlabel('$k_t$')\n",
    "    plt.legend()\n",
    "    plt.legend()\n",
    "    return plt.show()\n",
    "\n",
    "# # b. call function with fixed parameters\n",
    "solow(200,1/3,0.05,0.101,0.025,0.02)"
   ]
  },
  {
   "cell_type": "markdown",
   "metadata": {},
   "source": [
    "We choose to create an interactive version of the above figure where it is possible to change the deprication, saving, population - and technologic growth"
   ]
  },
  {
   "cell_type": "code",
   "execution_count": 4,
   "metadata": {},
   "outputs": [
    {
     "output_type": "display_data",
     "data": {
      "text/plain": "interactive(children=(FloatSlider(value=0.05, description='d', max=0.1, min=0.01, step=0.01), FloatSlider(valu…",
      "application/vnd.jupyter.widget-view+json": {
       "version_major": 2,
       "version_minor": 0,
       "model_id": "8d6f4b6bd33f4fa3b97c441d4d4c2b9b"
      }
     },
     "metadata": {}
    },
    {
     "output_type": "execute_result",
     "data": {
      "text/plain": "<function __main__.solow(c, alpha, delta, s, n, g)>"
     },
     "metadata": {},
     "execution_count": 4
    }
   ],
   "source": [
    "widgets.interact(solow,\n",
    "    c = widgets.fixed(200),\n",
    "    alpha = widgets.fixed(1/3), \n",
    "    delta = widgets.FloatSlider(description = 'd' , min = 0.01, max = 0.1, step=0.01, value=0.05), \n",
    "    s = widgets.FloatSlider(description = 's', min=0.1, max=0.9, step = 0.1, value= 0.1),  \n",
    "    n = widgets.FloatSlider(description = 'n', min = 0.01, max = 0.1, step = 0.01, value = 0.025),\n",
    "    g = widgets.FloatSlider(description = 'g', min = 0.01, max = 0.1, step = 0.01, value = 0.02))"
   ]
  },
  {
   "cell_type": "markdown",
   "metadata": {},
   "source": [
    "skriv noget her Ring. Bare hvad der sker når man rykker de forskellige parameter. Find noget i slides"
   ]
  },
  {
   "cell_type": "markdown",
   "metadata": {},
   "source": [
    "# Model extension"
   ]
  },
  {
   "cell_type": "markdown",
   "metadata": {},
   "source": [
    "We consider the Solow model with land. \n",
    "\n",
    "We assume the production function is Cobb-Douglas: \n",
    "$$Y_t=K_t^{\\alpha}(A_tL_t)^{\\beta}X^{\\kappa}, \\alpha>0, \\beta>0, \\kappa>0, \\alpha+\\beta+\\kappa=1$$\n",
    "where: \n",
    "* $Y_t$ is GDP\n",
    "* $K_t$ is capital \n",
    "* $L_t$ is labor \n",
    " * growing with a constant rate of $n$: $L_{t+1}=(1+n)L_t, n\\geq0$\n",
    "* $A_t$ is technology \n",
    " * growing with a constant rate of $g$: $A_{t+1}=(1+g)A_t, g\\geq0$\n",
    "* $X$ is land\n",
    " * constant"
   ]
  },
  {
   "cell_type": "markdown",
   "metadata": {},
   "source": [
    "Saving is a constant fraction of GDP\n",
    "\n",
    "$$ \n",
    "S_t = sY_t,\\,s\\in(0,1)\n",
    "$$\n",
    "\n",
    "such that capital accumulation is savings and undepreciated capital: \n",
    "\n",
    "$$\n",
    "K_{t+1}=S_t+(1-\\delta)K_t, 0<\\delta<1\n",
    "$$"
   ]
  },
  {
   "cell_type": "markdown",
   "metadata": {},
   "source": [
    "We assume that economy converges towards a steady state in which the capital-output ratio is constant: \n",
    "$$\n",
    "z_t=\\frac{K_t}{Y_t}=\\frac{k_t}{y_t}\n",
    "$$"
   ]
  },
  {
   "cell_type": "markdown",
   "metadata": {},
   "source": [
    "The trasition equation is:\n",
    "$$\n",
    "z_{t+1}=\\frac{1}{((1+g)(1+n))^\\beta} [s+z_t(1-\\delta)]^{1-\\alpha}z_t^{\\alpha}\n",
    "$$"
   ]
  },
  {
   "cell_type": "markdown",
   "metadata": {},
   "source": [
    "# Steady state\n",
    "First we define the sympy symbols:"
   ]
  },
  {
   "cell_type": "code",
   "execution_count": 5,
   "metadata": {},
   "outputs": [],
   "source": [
    "alpha = sm.symbols('alpha')\n",
    "delta = sm.symbols('delta')\n",
    "beta = sm.symbols('beta')\n",
    "kappa = sm.symbols('kappa')\n",
    "s = sm.symbols('s')\n",
    "g = sm.symbols('g')\n",
    "n = sm.symbols('n')\n",
    "z = sm.symbols('z')"
   ]
  },
  {
   "cell_type": "markdown",
   "metadata": {},
   "source": [
    "## Analytical solution\n",
    "We define the steady state equation: "
   ]
  },
  {
   "cell_type": "code",
   "execution_count": 6,
   "metadata": {},
   "outputs": [],
   "source": [
    "ss = sm.Eq(z, s/((((1+n)*(1+g))**(beta/(beta+kappa)))-(1-delta))) #Turns SS into a sympy equation\n",
    "kss = sm.solve(ss,z)[0] #Solve it by sympy\n",
    "ss_func = sm.lambdify((s,g,n,beta,kappa,delta),kss) # Turns it into a Python function"
   ]
  },
  {
   "cell_type": "markdown",
   "metadata": {},
   "source": [
    "We call the function for given parameters: "
   ]
  },
  {
   "cell_type": "code",
   "execution_count": 7,
   "metadata": {},
   "outputs": [
    {
     "output_type": "execute_result",
     "data": {
      "text/plain": "2.75612860781496"
     },
     "metadata": {},
     "execution_count": 7
    }
   ],
   "source": [
    "ss_func(0.2,0.02,0.01,0.6,0.2,0.05)"
   ]
  },
  {
   "cell_type": "markdown",
   "metadata": {},
   "source": [
    "Skriv måske noget her"
   ]
  },
  {
   "cell_type": "markdown",
   "metadata": {},
   "source": [
    "## Numerical analysis\n",
    "If we rewrite the transition equation it clearly becomes a root-finding problem: \n",
    "\n",
    "$$\n",
    "0=\\frac{1}{((1+g)(1+n))^\\beta} [s+z*(1-\\delta)]^{1-\\alpha}z*^{\\alpha}-z*\n",
    "$$"
   ]
  },
  {
   "cell_type": "code",
   "execution_count": 8,
   "metadata": {},
   "outputs": [],
   "source": [
    "# We state the plausible values\n",
    "alpha = 0.2\n",
    "beta = 0.6\n",
    "kappa = 0.2\n",
    "delta = 0.05\n",
    "g = 0.02\n",
    "n = 0.01\n",
    "s = 0.2"
   ]
  },
  {
   "cell_type": "markdown",
   "metadata": {},
   "source": [
    "To solve we need an objective function: "
   ]
  },
  {
   "cell_type": "code",
   "execution_count": 9,
   "metadata": {},
   "outputs": [],
   "source": [
    "obj_zss = lambda z: z - ((s + z*(1-delta))**(1-alpha)*z**alpha)/(((1+n)*(1+g))**beta)\n",
    "interval = [0.1,100]"
   ]
  },
  {
   "cell_type": "markdown",
   "metadata": {},
   "source": [
    "Using Brentq we find the optimal level of capital-output ratio for given parameters:"
   ]
  },
  {
   "cell_type": "code",
   "execution_count": 10,
   "metadata": {},
   "outputs": [
    {
     "output_type": "stream",
     "name": "stdout",
     "text": "converged: True\n           flag: 'converged'\n function_calls: 7\n     iterations: 6\n           root: 2.7561286078149587\n"
    }
   ],
   "source": [
    "res  = optimize.root_scalar(obj_zss,bracket=interval,method='brentq')\n",
    "print(res)"
   ]
  },
  {
   "cell_type": "markdown",
   "metadata": {},
   "source": [
    "We call the two solutions and compare: "
   ]
  },
  {
   "cell_type": "code",
   "execution_count": 11,
   "metadata": {},
   "outputs": [
    {
     "output_type": "stream",
     "name": "stdout",
     "text": "analytical solution is: 2.756\nnumerical solution is: 2.756\n"
    }
   ],
   "source": [
    "print(f'analytical solution is: {ss_func(s,g,n,beta,kappa,delta):.3f}')\n",
    "print(f'numerical solution is: {res.root:.3f}')"
   ]
  },
  {
   "cell_type": "markdown",
   "metadata": {},
   "source": [
    "As we can see the solutions are identical with 3 decimals. (Tilføj måske noget her om iterations mm. og konvergens)"
   ]
  },
  {
   "cell_type": "markdown",
   "metadata": {},
   "source": [
    "## Graphical analysis"
   ]
  },
  {
   "cell_type": "markdown",
   "metadata": {},
   "source": [
    "We want to analyze capital-ratio output over time so we create the following function:"
   ]
  },
  {
   "cell_type": "code",
   "execution_count": 12,
   "metadata": {},
   "outputs": [],
   "source": [
    "# a. generate function for transition equation for the capital-output ratio\n",
    "def trans_eq(Z0,alpha,beta,delta,s,g,n,t):\n",
    "\n",
    "    '''Function creates a graph based on the transition equation \n",
    "    \n",
    "    input:\n",
    "    Z0 = capital-ratio output in first period\n",
    "    alpha = ...\n",
    "    beta = ...\n",
    "    delta = deprication\n",
    "    s = rate of saving\n",
    "    g = technology growth\n",
    "    n = population growth\n",
    "    t = periods\n",
    "    \n",
    "    output:\n",
    "    Z_t1 = capital-ratio output in next period\n",
    "\n",
    "    '''\n",
    "\n",
    "     # i. create two empty list \n",
    "    Z_t = [Z0]\n",
    "    Z_t1 = []\n",
    "\n",
    "    i = 1\n",
    "\n",
    "    # ii. create a loop which generates two lists for both z_t1 and z_t\n",
    "    while i <= t:\n",
    "        Z_t.append(((s+Z_t[-1]*(1-delta))**(1-alpha)*Z_t[-1]**alpha)/(((1+n)*(1+g))**beta)) # Adds to list for z_t\n",
    "        Z_t1.append(((s+Z_t[-1]*(1-delta))**(1-alpha)*Z_t[-1]**alpha)/(((1+n)*(1+g))**beta)) # Adds to list for z_t1\n",
    "\n",
    "        i += 1\n",
    "\n",
    "    # iii. generate plot\n",
    "    plt.style.use('seaborn')\n",
    "    fig = plt.figure(figsize=(5,5))\n",
    "    ax = fig.add_subplot(1,1,1)\n",
    "    ax.plot(Z_t1)\n",
    "    ax.set_title('Growth in capital-output ratio over time')\n",
    "    ax.set_xlabel('time')\n",
    "    ax.set_ylabel('$z_{t+1}$')\n",
    "    return plt.show()"
   ]
  },
  {
   "cell_type": "code",
   "execution_count": 13,
   "metadata": {},
   "outputs": [
    {
     "output_type": "error",
     "ename": "NameError",
     "evalue": "name 'Z0' is not defined",
     "traceback": [
      "\u001b[1;31m---------------------------------------------------------------------------\u001b[0m",
      "\u001b[1;31mNameError\u001b[0m                                 Traceback (most recent call last)",
      "\u001b[1;32m<ipython-input-13-144abf17323e>\u001b[0m in \u001b[0;36m<module>\u001b[1;34m\u001b[0m\n\u001b[1;32m----> 1\u001b[1;33m \u001b[0mtrans_eq\u001b[0m\u001b[1;33m(\u001b[0m\u001b[0mZ0\u001b[0m\u001b[1;33m,\u001b[0m\u001b[0malpha\u001b[0m\u001b[1;33m,\u001b[0m\u001b[0mbeta\u001b[0m\u001b[1;33m,\u001b[0m\u001b[0mdelta\u001b[0m\u001b[1;33m,\u001b[0m\u001b[0ms\u001b[0m\u001b[1;33m,\u001b[0m\u001b[0mg\u001b[0m\u001b[1;33m,\u001b[0m\u001b[0mn\u001b[0m\u001b[1;33m,\u001b[0m\u001b[1;36m200\u001b[0m\u001b[1;33m)\u001b[0m\u001b[1;33m\u001b[0m\u001b[1;33m\u001b[0m\u001b[0m\n\u001b[0m",
      "\u001b[1;31mNameError\u001b[0m: name 'Z0' is not defined"
     ]
    }
   ],
   "source": [
    "trans_eq(Z0,alpha,beta,delta,s,g,n,200)"
   ]
  },
  {
   "cell_type": "markdown",
   "metadata": {},
   "source": [
    "We want to include an interactive element to our graph so we create the following:"
   ]
  },
  {
   "cell_type": "code",
   "execution_count": null,
   "metadata": {},
   "outputs": [],
   "source": [
    "widgets.interact(trans_eq,\n",
    "    Z0 = widgets.fixed(1),\n",
    "    alpha = widgets.fixed(0.2), \n",
    "    beta = widgets.fixed(0.6), \n",
    "    delta = widgets.FloatSlider(description = 'd' , min = 0.01, max = 0.1, step=0.01, value=0.05), \n",
    "    s = widgets.FloatSlider(description = 's', min=0.1, max=0.9, step = 0.1, value= 0.2), \n",
    "    g = widgets.FloatSlider(description = 'g', min=0.01, max=0.1, step= 0.01, value=0.02), \n",
    "    n = widgets.FloatSlider(description = 'n', min = 0.01, max = 0.1, step = 0.01, value = 0.01), \n",
    "    t = widgets.fixed(200))"
   ]
  },
  {
   "cell_type": "markdown",
   "metadata": {},
   "source": [
    "Tilføj noget her"
   ]
  },
  {
   "cell_type": "markdown",
   "metadata": {
    "toc-hr-collapsed": true
   },
   "source": [
    "# Ved ikke om vi skal have dette med. Men vi kan gøre det. Hvordan steady state værdien ændrer sig i takt med n, s."
   ]
  },
  {
   "cell_type": "markdown",
   "metadata": {},
   "source": [
    "We want to analyze what happens with the steady state value based on a change in savings rate and population growth "
   ]
  },
  {
   "cell_type": "code",
   "execution_count": null,
   "metadata": {},
   "outputs": [],
   "source": [
    "# a. creates a list for savings rate and a list for population growth\n",
    "s_list = np.linspace(0.1,1,num=10, endpoint=True)\n",
    "results_s = []\n",
    "\n",
    "n_list = np.linspace(0.01,0.05,num=10, endpoint=True)\n",
    "results_n = []\n",
    "\n",
    "# b. create two loops which makes a steady state for each value of savings rate and population growth\n",
    "for s in s_list:\n",
    "    res  = optimize.root_scalar(obj_zss,bracket=interval,method='brentq')\n",
    "    results_s.append(res.root)\n",
    "\n",
    "for n in n_list:\n",
    "    res  = optimize.root_scalar(obj_zss,bracket=interval,method='brentq')\n",
    "    results_n.append(res.root)\n",
    "\n",
    "# c. create figure for both results\n",
    "plt.style.use('seaborn')\n",
    "fig = plt.figure(figsize=(10,4))\n",
    "\n",
    "# d. figure based on savings\n",
    "ax_s = fig.add_subplot(1,2,1)\n",
    "ax_s.scatter(s_list,results_s)\n",
    "ax_s.set_title('Steady state based on rate of savings')\n",
    "ax_s.set_xlabel('s')\n",
    "ax_s.set_ylabel('$z^*$')\n",
    "ax_s.grid(True)\n",
    "\n",
    "# e. figure based on population growth\n",
    "ax_n = fig.add_subplot(1,2,2)\n",
    "ax_n.scatter(n_list,results_n)\n",
    "ax_n.set_title('Steady state based on population growth')\n",
    "ax_n.set_xlabel('n')\n",
    "ax_n.set_ylabel('$z^*$')\n",
    "ax_n.grid(True)"
   ]
  },
  {
   "cell_type": "markdown",
   "metadata": {},
   "source": [
    "# Conclusion"
   ]
  },
  {
   "cell_type": "code",
   "execution_count": null,
   "metadata": {},
   "outputs": [],
   "source": []
  }
 ],
 "metadata": {
  "kernelspec": {
   "display_name": "Python 3",
   "language": "python",
   "name": "python3"
  },
  "language_info": {
   "codemirror_mode": {
    "name": "ipython",
    "version": 3
   },
   "file_extension": ".py",
   "mimetype": "text/x-python",
   "name": "python",
   "nbconvert_exporter": "python",
   "pygments_lexer": "ipython3",
   "version": "3.7.4-final"
  },
  "toc-autonumbering": true
 },
 "nbformat": 4,
 "nbformat_minor": 4
}